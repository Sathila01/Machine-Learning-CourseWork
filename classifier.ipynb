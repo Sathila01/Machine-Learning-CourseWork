{
 "cells": [
  {
   "cell_type": "code",
   "execution_count": 20,
   "outputs": [],
   "source": [
    "import matplotlib.pyplot as plt\n",
    "from IPython.display import HTML\n",
    "import pandas as pd\n",
    "import seaborn as sns\n",
    "import numpy as np\n",
    "from sklearn.preprocessing import StandardScaler\n",
    "\n",
    "%matplotlib inline"
   ],
   "metadata": {
    "collapsed": false
   }
  },
  {
   "cell_type": "code",
   "execution_count": 21,
   "outputs": [
    {
     "data": {
      "text/plain": "      word_freq_make:   word_freq_address:   word_freq_all:   word_freq_3d:    \\\n0                 0.00                 0.64             0.64              0.0   \n1                 0.21                 0.28             0.50              0.0   \n2                 0.06                 0.00             0.71              0.0   \n3                 0.00                 0.00             0.00              0.0   \n4                 0.00                 0.00             0.00              0.0   \n...                ...                  ...              ...              ...   \n4596              0.31                 0.00             0.62              0.0   \n4597              0.00                 0.00             0.00              0.0   \n4598              0.30                 0.00             0.30              0.0   \n4599              0.96                 0.00             0.00              0.0   \n4600              0.00                 0.00             0.65              0.0   \n\n      word_freq_our:  word_freq_over:  word_freq_remove:   \\\n0               0.32             0.00                0.00   \n1               0.14             0.28                0.21   \n2               1.23             0.19                0.19   \n3               0.63             0.00                0.31   \n4               0.63             0.00                0.31   \n...              ...              ...                 ...   \n4596            0.00             0.31                0.00   \n4597            0.00             0.00                0.00   \n4598            0.00             0.00                0.00   \n4599            0.32             0.00                0.00   \n4600            0.00             0.00                0.00   \n\n      word_freq_internet:   word_freq_order:   word_freq_mail:   ...  \\\n0                     0.00               0.00              0.00  ...   \n1                     0.07               0.00              0.94  ...   \n2                     0.12               0.64              0.25  ...   \n3                     0.63               0.31              0.63  ...   \n4                     0.63               0.31              0.63  ...   \n...                    ...                ...               ...  ...   \n4596                  0.00               0.00              0.00  ...   \n4597                  0.00               0.00              0.00  ...   \n4598                  0.00               0.00              0.00  ...   \n4599                  0.00               0.00              0.00  ...   \n4600                  0.00               0.00              0.00  ...   \n\n      char_freq_;:    char_freq_(:   char_freq_[:      char_freq_!:         \\\n0              0.000          0.000               0.0                0.778   \n1              0.000          0.132               0.0                0.372   \n2              0.010          0.143               0.0                0.276   \n3              0.000          0.137               0.0                0.137   \n4              0.000          0.135               0.0                0.135   \n...              ...            ...               ...                  ...   \n4596           0.000          0.232               0.0                0.000   \n4597           0.000          0.000               0.0                0.353   \n4598           0.102          0.718               0.0                0.000   \n4599           0.000          0.057               0.0                0.000   \n4600           0.000          0.000               0.0                0.125   \n\n      char_freq_$:      char_freq_#:   capital_run_length_average:  \\\n0                0.000          0.000                        3.756   \n1                0.180          0.048                        5.114   \n2                0.184          0.010                        9.821   \n3                0.000          0.000                        3.537   \n4                0.000          0.000                        3.537   \n...                ...            ...                          ...   \n4596             0.000          0.000                        1.142   \n4597             0.000          0.000                        1.555   \n4598             0.000          0.000                        1.404   \n4599             0.000          0.000                        1.147   \n4600             0.000          0.000                        1.250   \n\n      capital_run_length_longest:  capital_run_length_total:    spam  \n0                              61                          278     1  \n1                             101                         1028     1  \n2                             485                         2259     1  \n3                              40                          191     1  \n4                              40                          191     1  \n...                           ...                          ...   ...  \n4596                            3                           88     0  \n4597                            4                           14     0  \n4598                            6                          118     0  \n4599                            5                           78     0  \n4600                            5                           40     0  \n\n[4601 rows x 58 columns]",
      "text/html": "<div>\n<style scoped>\n    .dataframe tbody tr th:only-of-type {\n        vertical-align: middle;\n    }\n\n    .dataframe tbody tr th {\n        vertical-align: top;\n    }\n\n    .dataframe thead th {\n        text-align: right;\n    }\n</style>\n<table border=\"1\" class=\"dataframe\">\n  <thead>\n    <tr style=\"text-align: right;\">\n      <th></th>\n      <th>word_freq_make:</th>\n      <th>word_freq_address:</th>\n      <th>word_freq_all:</th>\n      <th>word_freq_3d:</th>\n      <th>word_freq_our:</th>\n      <th>word_freq_over:</th>\n      <th>word_freq_remove:</th>\n      <th>word_freq_internet:</th>\n      <th>word_freq_order:</th>\n      <th>word_freq_mail:</th>\n      <th>...</th>\n      <th>char_freq_;:</th>\n      <th>char_freq_(:</th>\n      <th>char_freq_[:</th>\n      <th>char_freq_!:</th>\n      <th>char_freq_$:</th>\n      <th>char_freq_#:</th>\n      <th>capital_run_length_average:</th>\n      <th>capital_run_length_longest:</th>\n      <th>capital_run_length_total:</th>\n      <th>spam</th>\n    </tr>\n  </thead>\n  <tbody>\n    <tr>\n      <th>0</th>\n      <td>0.00</td>\n      <td>0.64</td>\n      <td>0.64</td>\n      <td>0.0</td>\n      <td>0.32</td>\n      <td>0.00</td>\n      <td>0.00</td>\n      <td>0.00</td>\n      <td>0.00</td>\n      <td>0.00</td>\n      <td>...</td>\n      <td>0.000</td>\n      <td>0.000</td>\n      <td>0.0</td>\n      <td>0.778</td>\n      <td>0.000</td>\n      <td>0.000</td>\n      <td>3.756</td>\n      <td>61</td>\n      <td>278</td>\n      <td>1</td>\n    </tr>\n    <tr>\n      <th>1</th>\n      <td>0.21</td>\n      <td>0.28</td>\n      <td>0.50</td>\n      <td>0.0</td>\n      <td>0.14</td>\n      <td>0.28</td>\n      <td>0.21</td>\n      <td>0.07</td>\n      <td>0.00</td>\n      <td>0.94</td>\n      <td>...</td>\n      <td>0.000</td>\n      <td>0.132</td>\n      <td>0.0</td>\n      <td>0.372</td>\n      <td>0.180</td>\n      <td>0.048</td>\n      <td>5.114</td>\n      <td>101</td>\n      <td>1028</td>\n      <td>1</td>\n    </tr>\n    <tr>\n      <th>2</th>\n      <td>0.06</td>\n      <td>0.00</td>\n      <td>0.71</td>\n      <td>0.0</td>\n      <td>1.23</td>\n      <td>0.19</td>\n      <td>0.19</td>\n      <td>0.12</td>\n      <td>0.64</td>\n      <td>0.25</td>\n      <td>...</td>\n      <td>0.010</td>\n      <td>0.143</td>\n      <td>0.0</td>\n      <td>0.276</td>\n      <td>0.184</td>\n      <td>0.010</td>\n      <td>9.821</td>\n      <td>485</td>\n      <td>2259</td>\n      <td>1</td>\n    </tr>\n    <tr>\n      <th>3</th>\n      <td>0.00</td>\n      <td>0.00</td>\n      <td>0.00</td>\n      <td>0.0</td>\n      <td>0.63</td>\n      <td>0.00</td>\n      <td>0.31</td>\n      <td>0.63</td>\n      <td>0.31</td>\n      <td>0.63</td>\n      <td>...</td>\n      <td>0.000</td>\n      <td>0.137</td>\n      <td>0.0</td>\n      <td>0.137</td>\n      <td>0.000</td>\n      <td>0.000</td>\n      <td>3.537</td>\n      <td>40</td>\n      <td>191</td>\n      <td>1</td>\n    </tr>\n    <tr>\n      <th>4</th>\n      <td>0.00</td>\n      <td>0.00</td>\n      <td>0.00</td>\n      <td>0.0</td>\n      <td>0.63</td>\n      <td>0.00</td>\n      <td>0.31</td>\n      <td>0.63</td>\n      <td>0.31</td>\n      <td>0.63</td>\n      <td>...</td>\n      <td>0.000</td>\n      <td>0.135</td>\n      <td>0.0</td>\n      <td>0.135</td>\n      <td>0.000</td>\n      <td>0.000</td>\n      <td>3.537</td>\n      <td>40</td>\n      <td>191</td>\n      <td>1</td>\n    </tr>\n    <tr>\n      <th>...</th>\n      <td>...</td>\n      <td>...</td>\n      <td>...</td>\n      <td>...</td>\n      <td>...</td>\n      <td>...</td>\n      <td>...</td>\n      <td>...</td>\n      <td>...</td>\n      <td>...</td>\n      <td>...</td>\n      <td>...</td>\n      <td>...</td>\n      <td>...</td>\n      <td>...</td>\n      <td>...</td>\n      <td>...</td>\n      <td>...</td>\n      <td>...</td>\n      <td>...</td>\n      <td>...</td>\n    </tr>\n    <tr>\n      <th>4596</th>\n      <td>0.31</td>\n      <td>0.00</td>\n      <td>0.62</td>\n      <td>0.0</td>\n      <td>0.00</td>\n      <td>0.31</td>\n      <td>0.00</td>\n      <td>0.00</td>\n      <td>0.00</td>\n      <td>0.00</td>\n      <td>...</td>\n      <td>0.000</td>\n      <td>0.232</td>\n      <td>0.0</td>\n      <td>0.000</td>\n      <td>0.000</td>\n      <td>0.000</td>\n      <td>1.142</td>\n      <td>3</td>\n      <td>88</td>\n      <td>0</td>\n    </tr>\n    <tr>\n      <th>4597</th>\n      <td>0.00</td>\n      <td>0.00</td>\n      <td>0.00</td>\n      <td>0.0</td>\n      <td>0.00</td>\n      <td>0.00</td>\n      <td>0.00</td>\n      <td>0.00</td>\n      <td>0.00</td>\n      <td>0.00</td>\n      <td>...</td>\n      <td>0.000</td>\n      <td>0.000</td>\n      <td>0.0</td>\n      <td>0.353</td>\n      <td>0.000</td>\n      <td>0.000</td>\n      <td>1.555</td>\n      <td>4</td>\n      <td>14</td>\n      <td>0</td>\n    </tr>\n    <tr>\n      <th>4598</th>\n      <td>0.30</td>\n      <td>0.00</td>\n      <td>0.30</td>\n      <td>0.0</td>\n      <td>0.00</td>\n      <td>0.00</td>\n      <td>0.00</td>\n      <td>0.00</td>\n      <td>0.00</td>\n      <td>0.00</td>\n      <td>...</td>\n      <td>0.102</td>\n      <td>0.718</td>\n      <td>0.0</td>\n      <td>0.000</td>\n      <td>0.000</td>\n      <td>0.000</td>\n      <td>1.404</td>\n      <td>6</td>\n      <td>118</td>\n      <td>0</td>\n    </tr>\n    <tr>\n      <th>4599</th>\n      <td>0.96</td>\n      <td>0.00</td>\n      <td>0.00</td>\n      <td>0.0</td>\n      <td>0.32</td>\n      <td>0.00</td>\n      <td>0.00</td>\n      <td>0.00</td>\n      <td>0.00</td>\n      <td>0.00</td>\n      <td>...</td>\n      <td>0.000</td>\n      <td>0.057</td>\n      <td>0.0</td>\n      <td>0.000</td>\n      <td>0.000</td>\n      <td>0.000</td>\n      <td>1.147</td>\n      <td>5</td>\n      <td>78</td>\n      <td>0</td>\n    </tr>\n    <tr>\n      <th>4600</th>\n      <td>0.00</td>\n      <td>0.00</td>\n      <td>0.65</td>\n      <td>0.0</td>\n      <td>0.00</td>\n      <td>0.00</td>\n      <td>0.00</td>\n      <td>0.00</td>\n      <td>0.00</td>\n      <td>0.00</td>\n      <td>...</td>\n      <td>0.000</td>\n      <td>0.000</td>\n      <td>0.0</td>\n      <td>0.125</td>\n      <td>0.000</td>\n      <td>0.000</td>\n      <td>1.250</td>\n      <td>5</td>\n      <td>40</td>\n      <td>0</td>\n    </tr>\n  </tbody>\n</table>\n<p>4601 rows × 58 columns</p>\n</div>"
     },
     "execution_count": 21,
     "metadata": {},
     "output_type": "execute_result"
    }
   ],
   "source": [
    "#importing spambase.data dataset as a csv\n",
    "\n",
    "df = pd.read_csv('spambase.csv')\n",
    "df\n"
   ],
   "metadata": {
    "collapsed": false
   }
  },
  {
   "cell_type": "code",
   "execution_count": 22,
   "outputs": [
    {
     "data": {
      "text/plain": "   word_freq_make:   word_freq_address:   word_freq_all:   word_freq_3d:    \\\n0              0.00                 0.64             0.64              0.0   \n1              0.21                 0.28             0.50              0.0   \n2              0.06                 0.00             0.71              0.0   \n3              0.00                 0.00             0.00              0.0   \n4              0.00                 0.00             0.00              0.0   \n\n   word_freq_our:  word_freq_over:  word_freq_remove:   word_freq_internet:   \\\n0            0.32             0.00                0.00                  0.00   \n1            0.14             0.28                0.21                  0.07   \n2            1.23             0.19                0.19                  0.12   \n3            0.63             0.00                0.31                  0.63   \n4            0.63             0.00                0.31                  0.63   \n\n   word_freq_order:   word_freq_mail:   ...  char_freq_;:    char_freq_(:   \\\n0               0.00              0.00  ...            0.00          0.000   \n1               0.00              0.94  ...            0.00          0.132   \n2               0.64              0.25  ...            0.01          0.143   \n3               0.31              0.63  ...            0.00          0.137   \n4               0.31              0.63  ...            0.00          0.135   \n\n   char_freq_[:      char_freq_!:         char_freq_$:      char_freq_#:   \\\n0               0.0                0.778             0.000          0.000   \n1               0.0                0.372             0.180          0.048   \n2               0.0                0.276             0.184          0.010   \n3               0.0                0.137             0.000          0.000   \n4               0.0                0.135             0.000          0.000   \n\n   capital_run_length_average:  capital_run_length_longest:  \\\n0                        3.756                           61   \n1                        5.114                          101   \n2                        9.821                          485   \n3                        3.537                           40   \n4                        3.537                           40   \n\n   capital_run_length_total:    spam  \n0                          278     1  \n1                         1028     1  \n2                         2259     1  \n3                          191     1  \n4                          191     1  \n\n[5 rows x 58 columns]",
      "text/html": "<div>\n<style scoped>\n    .dataframe tbody tr th:only-of-type {\n        vertical-align: middle;\n    }\n\n    .dataframe tbody tr th {\n        vertical-align: top;\n    }\n\n    .dataframe thead th {\n        text-align: right;\n    }\n</style>\n<table border=\"1\" class=\"dataframe\">\n  <thead>\n    <tr style=\"text-align: right;\">\n      <th></th>\n      <th>word_freq_make:</th>\n      <th>word_freq_address:</th>\n      <th>word_freq_all:</th>\n      <th>word_freq_3d:</th>\n      <th>word_freq_our:</th>\n      <th>word_freq_over:</th>\n      <th>word_freq_remove:</th>\n      <th>word_freq_internet:</th>\n      <th>word_freq_order:</th>\n      <th>word_freq_mail:</th>\n      <th>...</th>\n      <th>char_freq_;:</th>\n      <th>char_freq_(:</th>\n      <th>char_freq_[:</th>\n      <th>char_freq_!:</th>\n      <th>char_freq_$:</th>\n      <th>char_freq_#:</th>\n      <th>capital_run_length_average:</th>\n      <th>capital_run_length_longest:</th>\n      <th>capital_run_length_total:</th>\n      <th>spam</th>\n    </tr>\n  </thead>\n  <tbody>\n    <tr>\n      <th>0</th>\n      <td>0.00</td>\n      <td>0.64</td>\n      <td>0.64</td>\n      <td>0.0</td>\n      <td>0.32</td>\n      <td>0.00</td>\n      <td>0.00</td>\n      <td>0.00</td>\n      <td>0.00</td>\n      <td>0.00</td>\n      <td>...</td>\n      <td>0.00</td>\n      <td>0.000</td>\n      <td>0.0</td>\n      <td>0.778</td>\n      <td>0.000</td>\n      <td>0.000</td>\n      <td>3.756</td>\n      <td>61</td>\n      <td>278</td>\n      <td>1</td>\n    </tr>\n    <tr>\n      <th>1</th>\n      <td>0.21</td>\n      <td>0.28</td>\n      <td>0.50</td>\n      <td>0.0</td>\n      <td>0.14</td>\n      <td>0.28</td>\n      <td>0.21</td>\n      <td>0.07</td>\n      <td>0.00</td>\n      <td>0.94</td>\n      <td>...</td>\n      <td>0.00</td>\n      <td>0.132</td>\n      <td>0.0</td>\n      <td>0.372</td>\n      <td>0.180</td>\n      <td>0.048</td>\n      <td>5.114</td>\n      <td>101</td>\n      <td>1028</td>\n      <td>1</td>\n    </tr>\n    <tr>\n      <th>2</th>\n      <td>0.06</td>\n      <td>0.00</td>\n      <td>0.71</td>\n      <td>0.0</td>\n      <td>1.23</td>\n      <td>0.19</td>\n      <td>0.19</td>\n      <td>0.12</td>\n      <td>0.64</td>\n      <td>0.25</td>\n      <td>...</td>\n      <td>0.01</td>\n      <td>0.143</td>\n      <td>0.0</td>\n      <td>0.276</td>\n      <td>0.184</td>\n      <td>0.010</td>\n      <td>9.821</td>\n      <td>485</td>\n      <td>2259</td>\n      <td>1</td>\n    </tr>\n    <tr>\n      <th>3</th>\n      <td>0.00</td>\n      <td>0.00</td>\n      <td>0.00</td>\n      <td>0.0</td>\n      <td>0.63</td>\n      <td>0.00</td>\n      <td>0.31</td>\n      <td>0.63</td>\n      <td>0.31</td>\n      <td>0.63</td>\n      <td>...</td>\n      <td>0.00</td>\n      <td>0.137</td>\n      <td>0.0</td>\n      <td>0.137</td>\n      <td>0.000</td>\n      <td>0.000</td>\n      <td>3.537</td>\n      <td>40</td>\n      <td>191</td>\n      <td>1</td>\n    </tr>\n    <tr>\n      <th>4</th>\n      <td>0.00</td>\n      <td>0.00</td>\n      <td>0.00</td>\n      <td>0.0</td>\n      <td>0.63</td>\n      <td>0.00</td>\n      <td>0.31</td>\n      <td>0.63</td>\n      <td>0.31</td>\n      <td>0.63</td>\n      <td>...</td>\n      <td>0.00</td>\n      <td>0.135</td>\n      <td>0.0</td>\n      <td>0.135</td>\n      <td>0.000</td>\n      <td>0.000</td>\n      <td>3.537</td>\n      <td>40</td>\n      <td>191</td>\n      <td>1</td>\n    </tr>\n  </tbody>\n</table>\n<p>5 rows × 58 columns</p>\n</div>"
     },
     "execution_count": 22,
     "metadata": {},
     "output_type": "execute_result"
    }
   ],
   "source": [
    "df.head()"
   ],
   "metadata": {
    "collapsed": false
   }
  },
  {
   "cell_type": "code",
   "execution_count": 23,
   "outputs": [
    {
     "name": "stdout",
     "output_type": "stream",
     "text": [
      "<class 'pandas.core.frame.DataFrame'>\n",
      "RangeIndex: 4601 entries, 0 to 4600\n",
      "Data columns (total 58 columns):\n",
      " #   Column                       Non-Null Count  Dtype  \n",
      "---  ------                       --------------  -----  \n",
      " 0   word_freq_make:              4601 non-null   float64\n",
      " 1   word_freq_address:           4601 non-null   float64\n",
      " 2   word_freq_all:               4601 non-null   float64\n",
      " 3   word_freq_3d:                4601 non-null   float64\n",
      " 4   word_freq_our:               4601 non-null   float64\n",
      " 5   word_freq_over:              4601 non-null   float64\n",
      " 6   word_freq_remove:            4601 non-null   float64\n",
      " 7   word_freq_internet:          4601 non-null   float64\n",
      " 8   word_freq_order:             4601 non-null   float64\n",
      " 9   word_freq_mail:              4601 non-null   float64\n",
      " 10  word_freq_receive:           4601 non-null   float64\n",
      " 11  word_freq_will:              4601 non-null   float64\n",
      " 12  word_freq_people:            4601 non-null   float64\n",
      " 13  word_freq_report:            4601 non-null   float64\n",
      " 14  word_freq_addresses:         4601 non-null   float64\n",
      " 15  word_freq_free:              4601 non-null   float64\n",
      " 16  word_freq_business:          4601 non-null   float64\n",
      " 17  word_freq_email:             4601 non-null   float64\n",
      " 18  word_freq_you:               4601 non-null   float64\n",
      " 19  word_freq_credit:            4601 non-null   float64\n",
      " 20  word_freq_your:              4601 non-null   float64\n",
      " 21  word_freq_font:              4601 non-null   float64\n",
      " 22  word_freq_000:               4601 non-null   float64\n",
      " 23  word_freq_money:             4601 non-null   float64\n",
      " 24  word_freq_hp:                4601 non-null   float64\n",
      " 25  word_freq_hpl:               4601 non-null   float64\n",
      " 26  word_freq_george:            4601 non-null   float64\n",
      " 27  word_freq_650:               4601 non-null   float64\n",
      " 28  word_freq_lab:               4601 non-null   float64\n",
      " 29  word_freq_labs:              4601 non-null   float64\n",
      " 30  word_freq_telnet:            4601 non-null   float64\n",
      " 31  word_freq_857:               4601 non-null   float64\n",
      " 32  word_freq_data:              4601 non-null   float64\n",
      " 33  word_freq_415:               4601 non-null   float64\n",
      " 34  word_freq_85:                4601 non-null   float64\n",
      " 35  word_freq_technology:        4601 non-null   float64\n",
      " 36  word_freq_1999:              4601 non-null   float64\n",
      " 37  word_freq_parts:             4601 non-null   float64\n",
      " 38  word_freq_pm:                4601 non-null   float64\n",
      " 39  word_freq_direct:            4601 non-null   float64\n",
      " 40  word_freq_cs:                4601 non-null   float64\n",
      " 41  word_freq_meeting:           4601 non-null   float64\n",
      " 42  word_freq_original:          4601 non-null   float64\n",
      " 43  word_freq_project:           4601 non-null   float64\n",
      " 44  word_freq_re:                4601 non-null   float64\n",
      " 45  word_freq_edu:               4601 non-null   float64\n",
      " 46  word_freq_table              4601 non-null   float64\n",
      " 47  word_freq_conference:        4601 non-null   float64\n",
      " 48  char_freq_;:                 4601 non-null   float64\n",
      " 49  char_freq_(:                 4601 non-null   float64\n",
      " 50  char_freq_[:                 4601 non-null   float64\n",
      " 51  char_freq_!:                 4601 non-null   float64\n",
      " 52  char_freq_$:                 4601 non-null   float64\n",
      " 53  char_freq_#:                 4601 non-null   float64\n",
      " 54  capital_run_length_average:  4601 non-null   float64\n",
      " 55  capital_run_length_longest:  4601 non-null   int64  \n",
      " 56  capital_run_length_total:    4601 non-null   int64  \n",
      " 57  spam                         4601 non-null   int64  \n",
      "dtypes: float64(55), int64(3)\n",
      "memory usage: 2.0 MB\n"
     ]
    }
   ],
   "source": [
    "df.info()"
   ],
   "metadata": {
    "collapsed": false
   }
  },
  {
   "cell_type": "code",
   "execution_count": 24,
   "outputs": [
    {
     "data": {
      "text/plain": "word_freq_make:                0\nword_freq_address:             0\nword_freq_all:                 0\nword_freq_3d:                  0\nword_freq_our:                 0\nword_freq_over:                0\nword_freq_remove:              0\nword_freq_internet:            0\nword_freq_order:               0\nword_freq_mail:                0\nword_freq_receive:             0\nword_freq_will:                0\nword_freq_people:              0\nword_freq_report:              0\nword_freq_addresses:           0\nword_freq_free:                0\nword_freq_business:            0\nword_freq_email:               0\nword_freq_you:                 0\nword_freq_credit:              0\nword_freq_your:                0\nword_freq_font:                0\nword_freq_000:                 0\nword_freq_money:               0\nword_freq_hp:                  0\nword_freq_hpl:                 0\nword_freq_george:              0\nword_freq_650:                 0\nword_freq_lab:                 0\nword_freq_labs:                0\nword_freq_telnet:              0\nword_freq_857:                 0\nword_freq_data:                0\nword_freq_415:                 0\nword_freq_85:                  0\nword_freq_technology:          0\nword_freq_1999:                0\nword_freq_parts:               0\nword_freq_pm:                  0\nword_freq_direct:              0\nword_freq_cs:                  0\nword_freq_meeting:             0\nword_freq_original:            0\nword_freq_project:             0\nword_freq_re:                  0\nword_freq_edu:                 0\nword_freq_table                0\nword_freq_conference:          0\nchar_freq_;:                   0\nchar_freq_(:                   0\nchar_freq_[:                   0\nchar_freq_!:                   0\nchar_freq_$:                   0\nchar_freq_#:                   0\ncapital_run_length_average:    0\ncapital_run_length_longest:    0\ncapital_run_length_total:      0\nspam                           0\ndtype: int64"
     },
     "execution_count": 24,
     "metadata": {},
     "output_type": "execute_result"
    }
   ],
   "source": [
    "#checking for null values available in the dataset\n",
    "df.isnull().sum()"
   ],
   "metadata": {
    "collapsed": false
   }
  },
  {
   "cell_type": "code",
   "execution_count": 28,
   "outputs": [
    {
     "data": {
      "text/plain": "       word_freq_make:   word_freq_address:   word_freq_all:   \\\ncount       4601.000000          4601.000000      4601.000000   \nmean           0.104553             0.213015         0.280656   \nstd            0.305358             1.290575         0.504143   \nmin            0.000000             0.000000         0.000000   \n25%            0.000000             0.000000         0.000000   \n50%            0.000000             0.000000         0.000000   \n75%            0.000000             0.000000         0.420000   \nmax            4.540000            14.280000         5.100000   \n\n       word_freq_3d:    word_freq_our:  word_freq_over:  word_freq_remove:   \\\ncount      4601.000000     4601.000000      4601.000000         4601.000000   \nmean          0.065425        0.312223         0.095901            0.114208   \nstd           1.395151        0.672513         0.273824            0.391441   \nmin           0.000000        0.000000         0.000000            0.000000   \n25%           0.000000        0.000000         0.000000            0.000000   \n50%           0.000000        0.000000         0.000000            0.000000   \n75%           0.000000        0.380000         0.000000            0.000000   \nmax          42.810000       10.000000         5.880000            7.270000   \n\n       word_freq_internet:   word_freq_order:   word_freq_mail:   ...  \\\ncount           4601.000000        4601.000000       4601.000000  ...   \nmean               0.105295           0.090067          0.239413  ...   \nstd                0.401071           0.278616          0.644755  ...   \nmin                0.000000           0.000000          0.000000  ...   \n25%                0.000000           0.000000          0.000000  ...   \n50%                0.000000           0.000000          0.000000  ...   \n75%                0.000000           0.000000          0.160000  ...   \nmax               11.110000           5.260000         18.180000  ...   \n\n       char_freq_;:    char_freq_(:   char_freq_[:      char_freq_!:         \\\ncount     4601.000000    4601.000000       4601.000000          4601.000000   \nmean         0.038575       0.139030          0.016976             0.269071   \nstd          0.243471       0.270355          0.109394             0.815672   \nmin          0.000000       0.000000          0.000000             0.000000   \n25%          0.000000       0.000000          0.000000             0.000000   \n50%          0.000000       0.065000          0.000000             0.000000   \n75%          0.000000       0.188000          0.000000             0.315000   \nmax          4.385000       9.752000          4.081000            32.478000   \n\n       char_freq_$:      char_freq_#:   capital_run_length_average:  \\\ncount       4601.000000    4601.000000                  4601.000000   \nmean           0.075811       0.044238                     5.191515   \nstd            0.245882       0.429342                    31.729449   \nmin            0.000000       0.000000                     1.000000   \n25%            0.000000       0.000000                     1.588000   \n50%            0.000000       0.000000                     2.276000   \n75%            0.052000       0.000000                     3.706000   \nmax            6.003000      19.829000                  1102.500000   \n\n       capital_run_length_longest:  capital_run_length_total:           spam  \ncount                  4601.000000                  4601.000000  4601.000000  \nmean                     52.172789                   283.289285     0.394045  \nstd                     194.891310                   606.347851     0.488698  \nmin                       1.000000                     1.000000     0.000000  \n25%                       6.000000                    35.000000     0.000000  \n50%                      15.000000                    95.000000     0.000000  \n75%                      43.000000                   266.000000     1.000000  \nmax                    9989.000000                 15841.000000     1.000000  \n\n[8 rows x 58 columns]",
      "text/html": "<div>\n<style scoped>\n    .dataframe tbody tr th:only-of-type {\n        vertical-align: middle;\n    }\n\n    .dataframe tbody tr th {\n        vertical-align: top;\n    }\n\n    .dataframe thead th {\n        text-align: right;\n    }\n</style>\n<table border=\"1\" class=\"dataframe\">\n  <thead>\n    <tr style=\"text-align: right;\">\n      <th></th>\n      <th>word_freq_make:</th>\n      <th>word_freq_address:</th>\n      <th>word_freq_all:</th>\n      <th>word_freq_3d:</th>\n      <th>word_freq_our:</th>\n      <th>word_freq_over:</th>\n      <th>word_freq_remove:</th>\n      <th>word_freq_internet:</th>\n      <th>word_freq_order:</th>\n      <th>word_freq_mail:</th>\n      <th>...</th>\n      <th>char_freq_;:</th>\n      <th>char_freq_(:</th>\n      <th>char_freq_[:</th>\n      <th>char_freq_!:</th>\n      <th>char_freq_$:</th>\n      <th>char_freq_#:</th>\n      <th>capital_run_length_average:</th>\n      <th>capital_run_length_longest:</th>\n      <th>capital_run_length_total:</th>\n      <th>spam</th>\n    </tr>\n  </thead>\n  <tbody>\n    <tr>\n      <th>count</th>\n      <td>4601.000000</td>\n      <td>4601.000000</td>\n      <td>4601.000000</td>\n      <td>4601.000000</td>\n      <td>4601.000000</td>\n      <td>4601.000000</td>\n      <td>4601.000000</td>\n      <td>4601.000000</td>\n      <td>4601.000000</td>\n      <td>4601.000000</td>\n      <td>...</td>\n      <td>4601.000000</td>\n      <td>4601.000000</td>\n      <td>4601.000000</td>\n      <td>4601.000000</td>\n      <td>4601.000000</td>\n      <td>4601.000000</td>\n      <td>4601.000000</td>\n      <td>4601.000000</td>\n      <td>4601.000000</td>\n      <td>4601.000000</td>\n    </tr>\n    <tr>\n      <th>mean</th>\n      <td>0.104553</td>\n      <td>0.213015</td>\n      <td>0.280656</td>\n      <td>0.065425</td>\n      <td>0.312223</td>\n      <td>0.095901</td>\n      <td>0.114208</td>\n      <td>0.105295</td>\n      <td>0.090067</td>\n      <td>0.239413</td>\n      <td>...</td>\n      <td>0.038575</td>\n      <td>0.139030</td>\n      <td>0.016976</td>\n      <td>0.269071</td>\n      <td>0.075811</td>\n      <td>0.044238</td>\n      <td>5.191515</td>\n      <td>52.172789</td>\n      <td>283.289285</td>\n      <td>0.394045</td>\n    </tr>\n    <tr>\n      <th>std</th>\n      <td>0.305358</td>\n      <td>1.290575</td>\n      <td>0.504143</td>\n      <td>1.395151</td>\n      <td>0.672513</td>\n      <td>0.273824</td>\n      <td>0.391441</td>\n      <td>0.401071</td>\n      <td>0.278616</td>\n      <td>0.644755</td>\n      <td>...</td>\n      <td>0.243471</td>\n      <td>0.270355</td>\n      <td>0.109394</td>\n      <td>0.815672</td>\n      <td>0.245882</td>\n      <td>0.429342</td>\n      <td>31.729449</td>\n      <td>194.891310</td>\n      <td>606.347851</td>\n      <td>0.488698</td>\n    </tr>\n    <tr>\n      <th>min</th>\n      <td>0.000000</td>\n      <td>0.000000</td>\n      <td>0.000000</td>\n      <td>0.000000</td>\n      <td>0.000000</td>\n      <td>0.000000</td>\n      <td>0.000000</td>\n      <td>0.000000</td>\n      <td>0.000000</td>\n      <td>0.000000</td>\n      <td>...</td>\n      <td>0.000000</td>\n      <td>0.000000</td>\n      <td>0.000000</td>\n      <td>0.000000</td>\n      <td>0.000000</td>\n      <td>0.000000</td>\n      <td>1.000000</td>\n      <td>1.000000</td>\n      <td>1.000000</td>\n      <td>0.000000</td>\n    </tr>\n    <tr>\n      <th>25%</th>\n      <td>0.000000</td>\n      <td>0.000000</td>\n      <td>0.000000</td>\n      <td>0.000000</td>\n      <td>0.000000</td>\n      <td>0.000000</td>\n      <td>0.000000</td>\n      <td>0.000000</td>\n      <td>0.000000</td>\n      <td>0.000000</td>\n      <td>...</td>\n      <td>0.000000</td>\n      <td>0.000000</td>\n      <td>0.000000</td>\n      <td>0.000000</td>\n      <td>0.000000</td>\n      <td>0.000000</td>\n      <td>1.588000</td>\n      <td>6.000000</td>\n      <td>35.000000</td>\n      <td>0.000000</td>\n    </tr>\n    <tr>\n      <th>50%</th>\n      <td>0.000000</td>\n      <td>0.000000</td>\n      <td>0.000000</td>\n      <td>0.000000</td>\n      <td>0.000000</td>\n      <td>0.000000</td>\n      <td>0.000000</td>\n      <td>0.000000</td>\n      <td>0.000000</td>\n      <td>0.000000</td>\n      <td>...</td>\n      <td>0.000000</td>\n      <td>0.065000</td>\n      <td>0.000000</td>\n      <td>0.000000</td>\n      <td>0.000000</td>\n      <td>0.000000</td>\n      <td>2.276000</td>\n      <td>15.000000</td>\n      <td>95.000000</td>\n      <td>0.000000</td>\n    </tr>\n    <tr>\n      <th>75%</th>\n      <td>0.000000</td>\n      <td>0.000000</td>\n      <td>0.420000</td>\n      <td>0.000000</td>\n      <td>0.380000</td>\n      <td>0.000000</td>\n      <td>0.000000</td>\n      <td>0.000000</td>\n      <td>0.000000</td>\n      <td>0.160000</td>\n      <td>...</td>\n      <td>0.000000</td>\n      <td>0.188000</td>\n      <td>0.000000</td>\n      <td>0.315000</td>\n      <td>0.052000</td>\n      <td>0.000000</td>\n      <td>3.706000</td>\n      <td>43.000000</td>\n      <td>266.000000</td>\n      <td>1.000000</td>\n    </tr>\n    <tr>\n      <th>max</th>\n      <td>4.540000</td>\n      <td>14.280000</td>\n      <td>5.100000</td>\n      <td>42.810000</td>\n      <td>10.000000</td>\n      <td>5.880000</td>\n      <td>7.270000</td>\n      <td>11.110000</td>\n      <td>5.260000</td>\n      <td>18.180000</td>\n      <td>...</td>\n      <td>4.385000</td>\n      <td>9.752000</td>\n      <td>4.081000</td>\n      <td>32.478000</td>\n      <td>6.003000</td>\n      <td>19.829000</td>\n      <td>1102.500000</td>\n      <td>9989.000000</td>\n      <td>15841.000000</td>\n      <td>1.000000</td>\n    </tr>\n  </tbody>\n</table>\n<p>8 rows × 58 columns</p>\n</div>"
     },
     "execution_count": 28,
     "metadata": {},
     "output_type": "execute_result"
    }
   ],
   "source": [
    "df.describe()"
   ],
   "metadata": {
    "collapsed": false
   }
  },
  {
   "cell_type": "code",
   "execution_count": 27,
   "outputs": [
    {
     "data": {
      "text/plain": "<AxesSubplot: xlabel='spam', ylabel='count'>"
     },
     "execution_count": 27,
     "metadata": {},
     "output_type": "execute_result"
    },
    {
     "data": {
      "text/plain": "<Figure size 640x480 with 1 Axes>",
      "image/png": "[encoded data removed]"
     },
     "metadata": {},
     "output_type": "display_data"
    }
   ],
   "source": [
    "sns.countplot(x='spam', data=df)\n",
    "#spam =1\n",
    "#non_spam =0"
   ],
   "metadata": {
    "collapsed": false
   }
  },
  {
   "cell_type": "code",
   "execution_count": 31,
   "outputs": [],
   "source": [
    "X = df.drop('spam', axis = 1)\n",
    "Y = df['spam']"
   ],
   "metadata": {
    "collapsed": false
   }
  },
  {
   "cell_type": "code",
   "execution_count": null,
   "outputs": [],
   "source": [
    "from sklearn.model_selection import train_test_split\n",
    "from sklearn.preprocessing import StandardScaler"
   ],
   "metadata": {
    "collapsed": false
   }
  },
  {
   "cell_type": "code",
   "execution_count": 33,
   "outputs": [],
   "source": [
    "X_train, X_test, Y_train, Y_test = train_test_split(X, Y, test_size = 0.30, random_state = 42)"
   ],
   "metadata": {
    "collapsed": false
   }
  },
  {
   "cell_type": "code",
   "execution_count": 34,
   "outputs": [],
   "source": [
    "# Perform feature scaling\n",
    "sc = StandardScaler()\n",
    "X_train = sc.fit_transform(X_train)\n",
    "X_test = sc.transform(X_test)"
   ],
   "metadata": {
    "collapsed": false
   }
  },
  {
   "cell_type": "code",
   "execution_count": 35,
   "outputs": [
    {
     "name": "stdout",
     "output_type": "stream",
     "text": [
      "(3220, 57) ----> Training Feature Shape\n",
      "(1381, 57) ----> Training Feature Shape\n",
      "(3220,) ----> Testing Labels Shape\n",
      "(1381,) ----> Testing Feature Shape\n"
     ]
    }
   ],
   "source": [
    "print(X_train.shape, '----> Training Feature Shape')\n",
    "print(X_test.shape, '----> Training Feature Shape')\n",
    "print(Y_train.shape, '----> Testing Labels Shape')\n",
    "print(Y_test.shape, '----> Testing Feature Shape')"
   ],
   "metadata": {
    "collapsed": false
   }
  },
  {
   "cell_type": "code",
   "execution_count": 36,
   "outputs": [
    {
     "name": "stdout",
     "output_type": "stream",
     "text": [
      "Optimal value of k: 5\n"
     ]
    }
   ],
   "source": [
    "from sklearn.neighbors import KNeighborsClassifier\n",
    "from sklearn.model_selection import GridSearchCV\n",
    "\n",
    "# Perform grid search to find optimal value of k\n",
    "param_grid = {'n_neighbors': [1, 3, 5, 7, 9]}\n",
    "grid_search = GridSearchCV(KNeighborsClassifier(), param_grid, cv=5)\n",
    "grid_search.fit(X_train, Y_train)\n",
    "\n",
    "# Print optimal value of k\n",
    "print('Optimal value of k:', grid_search.best_params_['n_neighbors'])"
   ],
   "metadata": {
    "collapsed": false
   }
  },
  {
   "cell_type": "code",
   "execution_count": 37,
   "outputs": [
    {
     "name": "stdout",
     "output_type": "stream",
     "text": [
      "Accuracy: 0.8964518464880521\n",
      "Precision: 0.8931159420289855\n",
      "Recall: 0.854419410745234\n",
      "F1 Score: 0.8733392382639503\n"
     ]
    }
   ],
   "source": [
    "# Build KNN model with k=5\n",
    "knn = KNeighborsClassifier(n_neighbors=5)\n",
    "\n",
    "# Train the model\n",
    "knn.fit(X_train, Y_train)\n",
    "\n",
    "# Evaluate the model on testing set\n",
    "Y_pred = knn.predict(X_test)\n",
    "\n",
    "# Print evaluation metrics\n",
    "from sklearn.metrics import accuracy_score, precision_score, recall_score, f1_score\n",
    "\n",
    "print('Accuracy:', accuracy_score(Y_test, Y_pred))\n",
    "print('Precision:', precision_score(Y_test, Y_pred))\n",
    "print('Recall:', recall_score(Y_test, Y_pred))\n",
    "print('F1 Score:', f1_score(Y_test, Y_pred))"
   ],
   "metadata": {
    "collapsed": false
   }
  },
  {
   "cell_type": "code",
   "execution_count": null,
   "outputs": [],
   "source": [],
   "metadata": {
    "collapsed": false
   }
  }
 ],
 "metadata": {
  "kernelspec": {
   "display_name": "Python 3",
   "language": "python",
   "name": "python3"
  },
  "language_info": {
   "codemirror_mode": {
    "name": "ipython",
    "version": 2
   },
   "file_extension": ".py",
   "mimetype": "text/x-python",
   "name": "python",
   "nbconvert_exporter": "python",
   "pygments_lexer": "ipython2",
   "version": "2.7.6"
  }
 },
 "nbformat": 4,
 "nbformat_minor": 0
}
